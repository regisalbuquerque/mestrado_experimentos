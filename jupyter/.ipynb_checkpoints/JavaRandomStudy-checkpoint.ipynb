{
 "cells": [
  {
   "cell_type": "code",
   "execution_count": 30,
   "metadata": {},
   "outputs": [],
   "source": [
    "double limInferior = 0.001;\n",
    "double limSuperior = 100;\n",
    "int quantidade = 11;"
   ]
  },
  {
   "cell_type": "code",
   "execution_count": 31,
   "metadata": {},
   "outputs": [
    {
     "name": "stdout",
     "output_type": "stream",
     "text": [
      "70.35184125130387\n",
      "60.09484008158836\n",
      "63.75161268969822\n",
      "90.88448429174613\n",
      "35.89383397015689\n",
      "66.91926919767674\n",
      "61.782565565298164\n",
      "39.83668446050156\n",
      "63.13489244756903\n",
      "9.517719777974813\n",
      "18.158797570191606\n"
     ]
    }
   ],
   "source": [
    "Random r = new Random();\n",
    "\n",
    "for (int i = 0; i < quantidade; i++)\n",
    "{\n",
    "    double randomValue = limInferior + (limSuperior - limInferior) * r.nextDouble();\n",
    "    System.out.println(randomValue);\n",
    "}"
   ]
  },
  {
   "cell_type": "code",
   "execution_count": 32,
   "metadata": {},
   "outputs": [
    {
     "name": "stdout",
     "output_type": "stream",
     "text": [
      "99.84783191612365\n",
      "55.90225040123752\n",
      "29.74205667073314\n",
      "40.981354236095\n",
      "49.47668559876067\n",
      "84.30229907689636\n",
      "48.835403343732274\n",
      "31.124172279655912\n",
      "66.31221151404242\n",
      "1.2757771228255281\n",
      "93.26469789512002\n"
     ]
    }
   ],
   "source": [
    "import java.util.stream.DoubleStream;\n",
    "Random r = new Random();\n",
    "\n",
    "DoubleStream doubleStream = r.doubles(quantidade, limInferior, limSuperior);\n",
    "doubleStream.limit(quantidade).forEach(System.out::println);\n"
   ]
  },
  {
   "cell_type": "code",
   "execution_count": 21,
   "metadata": {},
   "outputs": [
    {
     "data": {
      "text/plain": [
       "java.util.stream.DoublePipeline$Head@324396b3"
      ]
     },
     "execution_count": 21,
     "metadata": {},
     "output_type": "execute_result"
    }
   ],
   "source": [
    "doubleStream"
   ]
  },
  {
   "cell_type": "code",
   "execution_count": 24,
   "metadata": {},
   "outputs": [
    {
     "data": {
      "text/plain": [
       "java.util.stream.DoublePipeline$Head@16e42ead"
      ]
     },
     "execution_count": 24,
     "metadata": {},
     "output_type": "execute_result"
    }
   ],
   "source": [
    "doubleStream"
   ]
  },
  {
   "cell_type": "code",
   "execution_count": null,
   "metadata": {},
   "outputs": [],
   "source": []
  }
 ],
 "metadata": {
  "kernelspec": {
   "display_name": "Java",
   "language": "java",
   "name": "java"
  },
  "language_info": {
   "codemirror_mode": "java",
   "file_extension": ".java",
   "mimetype": "text/x-java-source",
   "name": "Java",
   "pygments_lexer": "java",
   "version": "11.0.1+13-LTS"
  }
 },
 "nbformat": 4,
 "nbformat_minor": 2
}
