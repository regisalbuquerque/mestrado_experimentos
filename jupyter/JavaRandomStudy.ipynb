{
 "cells": [
  {
   "cell_type": "code",
   "execution_count": 2,
   "metadata": {},
   "outputs": [],
   "source": [
    "public void executa_teste(double limInferior, double limSuperior, int quantidade)\n",
    "{\n",
    "    Random r = new Random();\n",
    "\n",
    "    for (int i = 0; i < quantidade; i++)\n",
    "    {\n",
    "        double randomValue = limInferior + (limSuperior - limInferior) * r.nextDouble();\n",
    "        System.out.println(randomValue);\n",
    "    }\n",
    "}"
   ]
  },
  {
   "cell_type": "code",
   "execution_count": 3,
   "metadata": {},
   "outputs": [
    {
     "name": "stdout",
     "output_type": "stream",
     "text": [
      "87.06110562042981\n",
      "33.78778325898175\n",
      "62.75339375639905\n",
      "91.32931605827618\n",
      "14.12519610218288\n",
      "32.83042546800019\n",
      "43.81785318609246\n",
      "67.84083936208594\n",
      "96.3025467885458\n",
      "23.342525153380766\n",
      "67.54781098899012\n"
     ]
    }
   ],
   "source": [
    "executa_teste(0.001, 100, 11);"
   ]
  },
  {
   "cell_type": "code",
   "execution_count": 4,
   "metadata": {},
   "outputs": [
    {
     "name": "stdout",
     "output_type": "stream",
     "text": [
      "0.283235302130439\n",
      "0.3067089991185208\n",
      "0.14565062148994065\n",
      "0.2950511103071959\n",
      "0.38326320293087507\n",
      "0.331409027217541\n",
      "0.014914711582251623\n",
      "0.17115632940779762\n",
      "0.11291252041226468\n",
      "0.26735265140391873\n",
      "0.4887032658218847\n"
     ]
    }
   ],
   "source": [
    "executa_teste(0.001, 0.5, 11);"
   ]
  },
  {
   "cell_type": "code",
   "execution_count": 5,
   "metadata": {},
   "outputs": [
    {
     "name": "stdout",
     "output_type": "stream",
     "text": [
      "521.8201628719478\n",
      "774.0019170815699\n",
      "188.0403964694542\n",
      "134.99356825765724\n",
      "135.73343598225588\n",
      "653.6779515858194\n",
      "159.44221781553992\n",
      "92.64435237134249\n",
      "641.9752203857792\n",
      "414.43443201099285\n",
      "807.4658553129955\n"
     ]
    }
   ],
   "source": [
    "executa_teste(0.5, 1000, 11);"
   ]
  },
  {
   "cell_type": "code",
   "execution_count": 6,
   "metadata": {},
   "outputs": [],
   "source": [
    "import java.util.stream.DoubleStream;\n",
    "public void executa_teste2(double limInferior, double limSuperior, int quantidade)\n",
    "{\n",
    "    Random r = new Random();\n",
    "\n",
    "    DoubleStream doubleStream = r.doubles(quantidade, limInferior, limSuperior);\n",
    "    doubleStream.limit(quantidade).forEach(System.out::println);\n",
    "}"
   ]
  },
  {
   "cell_type": "code",
   "execution_count": 7,
   "metadata": {},
   "outputs": [
    {
     "name": "stdout",
     "output_type": "stream",
     "text": [
      "22.8127136948491\n",
      "28.623427921356132\n",
      "75.12304064197595\n",
      "4.644766880974812\n",
      "44.04746891494058\n",
      "76.7962569840504\n",
      "42.4378637787089\n",
      "15.58488391232676\n",
      "87.54393111598664\n",
      "70.86694267193562\n",
      "93.09362258599306\n"
     ]
    }
   ],
   "source": [
    "executa_teste2(0.001, 100, 11);"
   ]
  },
  {
   "cell_type": "code",
   "execution_count": 8,
   "metadata": {},
   "outputs": [
    {
     "name": "stdout",
     "output_type": "stream",
     "text": [
      "0.459729708760372\n",
      "0.21416348611933755\n",
      "0.34221138150151786\n",
      "0.13479132633157848\n",
      "0.31692444274660336\n",
      "0.16657472688510405\n",
      "0.17278341916377443\n",
      "0.0499326102037534\n",
      "0.3885267661263176\n",
      "0.34478250025105966\n",
      "0.28944375150451845\n"
     ]
    }
   ],
   "source": [
    "executa_teste2(0.001, 0.5, 11);"
   ]
  },
  {
   "cell_type": "code",
   "execution_count": 9,
   "metadata": {},
   "outputs": [
    {
     "name": "stdout",
     "output_type": "stream",
     "text": [
      "18.553876034501783\n",
      "405.79181684871327\n",
      "79.2475619755774\n",
      "170.64118063277542\n",
      "839.5195970101516\n",
      "684.0483727547239\n",
      "95.12026423635227\n",
      "556.1962223211092\n",
      "161.3747987854045\n",
      "997.0260521041889\n",
      "514.7835016173995\n"
     ]
    }
   ],
   "source": [
    "executa_teste2(0.5, 1000, 11);"
   ]
  },
  {
   "cell_type": "code",
   "execution_count": null,
   "metadata": {},
   "outputs": [],
   "source": []
  }
 ],
 "metadata": {
  "kernelspec": {
   "display_name": "Java",
   "language": "java",
   "name": "java"
  },
  "language_info": {
   "codemirror_mode": "java",
   "file_extension": ".java",
   "mimetype": "text/x-java-source",
   "name": "Java",
   "pygments_lexer": "java",
   "version": "11.0.1+13-LTS"
  }
 },
 "nbformat": 4,
 "nbformat_minor": 2
}
